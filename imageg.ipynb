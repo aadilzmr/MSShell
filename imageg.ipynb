{
 "cells": [
  {
   "cell_type": "code",
   "execution_count": null,
   "metadata": {},
   "outputs": [],
   "source": [
    "import cv2\n",
    "\n",
    "#load the image\n",
    "image = cv2.imread(\"gus.jpg\")\n",
    "\n",
    "#convert the image to grayscale\n",
    "gray_image = cv2.cvtColor(image, cv2.COLOR_BGR2GRAY)\n",
    "\n",
    "#apply gaussian blur\n",
    "blurred_image = cv2.GaussianBlur(gray_image, (5,5), 0)\n",
    "\n",
    "#perform edge detection using Canny\n",
    "canny = cv2.Canny(blurred_image, 10, 50)\n",
    "\n",
    "#display the results\n",
    "cv2.imshow(\"Gazal  Image\", image)\n",
    "cv2.imshow(\"Gazal Gray Image\", gray_image)\n",
    "cv2.imshow(\"Gazal Blurred Image\", blurred_image)\n",
    "cv2.imshow(\"Gazal Canny Image\", canny)\n",
    "\n",
    "#wait for a key press and then close all windows\n",
    "cv2.waitKey(0)\n",
    "cv2.destroyAllWindows()"
   ]
  }
 ],
 "metadata": {
  "language_info": {
   "name": "python"
  }
 },
 "nbformat": 4,
 "nbformat_minor": 2
}
